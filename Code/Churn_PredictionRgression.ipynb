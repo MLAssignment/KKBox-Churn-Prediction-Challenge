{
 "cells": [
  {
   "cell_type": "markdown",
   "metadata": {},
   "source": [
    "# Import Libraries and Load datasets\n"
   ]
  },
  {
   "cell_type": "code",
   "execution_count": 1,
   "metadata": {},
   "outputs": [],
   "source": [
    "# Import Libraries\n",
    "\n",
    "import pandas as pd\n",
    "import numpy as np\n",
    "import seaborn as sns\n",
    "import matplotlib.pyplot as plt\n",
    "\n",
    "from sklearn.linear_model import LogisticRegression\n",
    "from sklearn.model_selection import StratifiedKFold,RandomizedSearchCV\n",
    "from sklearn.metrics import roc_auc_score,confusion_matrix,roc_curve\n",
    "from sklearn.preprocessing import LabelEncoder\n",
    "from sklearn.feature_extraction.text import TfidfVectorizer\n",
    "\n",
    "import datetime as dt\n",
    "\n",
    "% matplotlib inline\n",
    "seed = 129\n",
    "\n",
    "# Import Data\n",
    "\n",
    "path = 'input/'\n",
    "\n",
    "transactions = pd.read_csv(path+'transactions_v2.csv',parse_dates=['transaction_date','membership_expire_date'], dtype={'payment_method_id':np.int8,'payment_plan_days':np.int8,'plan_list_price':np.int8,'actual_amount_paid':np.int8,'is_auto_renew':np.int8,'is_cancel':np.int8})\n",
    "train = pd.read_csv(path+'train_v2.csv',dtype={'is_churn':np.int8})\n",
    "\n",
    "test = pd.read_csv(path+'sample_submission_v2.csv',dtype={'is_churn':np.int8})\n",
    "\n",
    "members = pd.read_csv(path+'members_v3.csv',parse_dates=['registration_init_time'],dtype={'city':np.int8,'bd':np.int8,'registered_via':np.int8})\n",
    "\n",
    "\n",
    "\n",
    "user_log = pd.read_csv(path+'user_logs_v2.csv',parse_dates=['date'],dtype={'num_25':np.int16,'num_50':np.int16, 'num_75':np.int16,'num_985':np.int16,'num_100':np.int16,'num_unq':np.int16})\n",
    "\n"
   ]
  },
  {
   "cell_type": "markdown",
   "metadata": {},
   "source": [
    "# User Log dataset info"
   ]
  },
  {
   "cell_type": "code",
   "execution_count": 2,
   "metadata": {
    "scrolled": false
   },
   "outputs": [
    {
     "name": "stdout",
     "output_type": "stream",
     "text": [
      "User Log Data : Number of rows & columns (18396362, 9)\n"
     ]
    },
    {
     "data": {
      "text/html": [
       "<div>\n",
       "<style scoped>\n",
       "    .dataframe tbody tr th:only-of-type {\n",
       "        vertical-align: middle;\n",
       "    }\n",
       "\n",
       "    .dataframe tbody tr th {\n",
       "        vertical-align: top;\n",
       "    }\n",
       "\n",
       "    .dataframe thead th {\n",
       "        text-align: right;\n",
       "    }\n",
       "</style>\n",
       "<table border=\"1\" class=\"dataframe\">\n",
       "  <thead>\n",
       "    <tr style=\"text-align: right;\">\n",
       "      <th></th>\n",
       "      <th>msno</th>\n",
       "      <th>date</th>\n",
       "      <th>num_25</th>\n",
       "      <th>num_50</th>\n",
       "      <th>num_75</th>\n",
       "      <th>num_985</th>\n",
       "      <th>num_100</th>\n",
       "      <th>num_unq</th>\n",
       "      <th>total_secs</th>\n",
       "    </tr>\n",
       "  </thead>\n",
       "  <tbody>\n",
       "    <tr>\n",
       "      <th>0</th>\n",
       "      <td>u9E91QDTvHLq6NXjEaWv8u4QIqhrHk72kE+w31Gnhdg=</td>\n",
       "      <td>2017-03-31</td>\n",
       "      <td>8</td>\n",
       "      <td>4</td>\n",
       "      <td>0</td>\n",
       "      <td>1</td>\n",
       "      <td>21</td>\n",
       "      <td>18</td>\n",
       "      <td>6309.273</td>\n",
       "    </tr>\n",
       "    <tr>\n",
       "      <th>1</th>\n",
       "      <td>nTeWW/eOZA/UHKdD5L7DEqKKFTjaAj3ALLPoAWsU8n0=</td>\n",
       "      <td>2017-03-30</td>\n",
       "      <td>2</td>\n",
       "      <td>2</td>\n",
       "      <td>1</td>\n",
       "      <td>0</td>\n",
       "      <td>9</td>\n",
       "      <td>11</td>\n",
       "      <td>2390.699</td>\n",
       "    </tr>\n",
       "    <tr>\n",
       "      <th>2</th>\n",
       "      <td>2UqkWXwZbIjs03dHLU9KHJNNEvEkZVzm69f3jCS+uLI=</td>\n",
       "      <td>2017-03-31</td>\n",
       "      <td>52</td>\n",
       "      <td>3</td>\n",
       "      <td>5</td>\n",
       "      <td>3</td>\n",
       "      <td>84</td>\n",
       "      <td>110</td>\n",
       "      <td>23203.337</td>\n",
       "    </tr>\n",
       "    <tr>\n",
       "      <th>3</th>\n",
       "      <td>ycwLc+m2O0a85jSLALtr941AaZt9ai8Qwlg9n0Nql5U=</td>\n",
       "      <td>2017-03-31</td>\n",
       "      <td>176</td>\n",
       "      <td>4</td>\n",
       "      <td>2</td>\n",
       "      <td>2</td>\n",
       "      <td>19</td>\n",
       "      <td>191</td>\n",
       "      <td>7100.454</td>\n",
       "    </tr>\n",
       "    <tr>\n",
       "      <th>4</th>\n",
       "      <td>EGcbTofOSOkMmQyN1NMLxHEXJ1yV3t/JdhGwQ9wXjnI=</td>\n",
       "      <td>2017-03-31</td>\n",
       "      <td>2</td>\n",
       "      <td>1</td>\n",
       "      <td>0</td>\n",
       "      <td>1</td>\n",
       "      <td>112</td>\n",
       "      <td>93</td>\n",
       "      <td>28401.558</td>\n",
       "    </tr>\n",
       "  </tbody>\n",
       "</table>\n",
       "</div>"
      ],
      "text/plain": [
       "                                           msno       date  num_25  num_50  \\\n",
       "0  u9E91QDTvHLq6NXjEaWv8u4QIqhrHk72kE+w31Gnhdg= 2017-03-31       8       4   \n",
       "1  nTeWW/eOZA/UHKdD5L7DEqKKFTjaAj3ALLPoAWsU8n0= 2017-03-30       2       2   \n",
       "2  2UqkWXwZbIjs03dHLU9KHJNNEvEkZVzm69f3jCS+uLI= 2017-03-31      52       3   \n",
       "3  ycwLc+m2O0a85jSLALtr941AaZt9ai8Qwlg9n0Nql5U= 2017-03-31     176       4   \n",
       "4  EGcbTofOSOkMmQyN1NMLxHEXJ1yV3t/JdhGwQ9wXjnI= 2017-03-31       2       1   \n",
       "\n",
       "   num_75  num_985  num_100  num_unq  total_secs  \n",
       "0       0        1       21       18    6309.273  \n",
       "1       1        0        9       11    2390.699  \n",
       "2       5        3       84      110   23203.337  \n",
       "3       2        2       19      191    7100.454  \n",
       "4       0        1      112       93   28401.558  "
      ]
     },
     "execution_count": 2,
     "metadata": {},
     "output_type": "execute_result"
    }
   ],
   "source": [
    "print('User Log Data : Number of rows & columns',user_log.shape)\n",
    "user_log.head()"
   ]
  },
  {
   "cell_type": "markdown",
   "metadata": {},
   "source": [
    "# Transactions dataset info"
   ]
  },
  {
   "cell_type": "code",
   "execution_count": 3,
   "metadata": {},
   "outputs": [
    {
     "name": "stdout",
     "output_type": "stream",
     "text": [
      "Transactions Data : Number of rows & columns (1431009, 9)\n"
     ]
    },
    {
     "data": {
      "text/html": [
       "<div>\n",
       "<style scoped>\n",
       "    .dataframe tbody tr th:only-of-type {\n",
       "        vertical-align: middle;\n",
       "    }\n",
       "\n",
       "    .dataframe tbody tr th {\n",
       "        vertical-align: top;\n",
       "    }\n",
       "\n",
       "    .dataframe thead th {\n",
       "        text-align: right;\n",
       "    }\n",
       "</style>\n",
       "<table border=\"1\" class=\"dataframe\">\n",
       "  <thead>\n",
       "    <tr style=\"text-align: right;\">\n",
       "      <th></th>\n",
       "      <th>msno</th>\n",
       "      <th>payment_method_id</th>\n",
       "      <th>payment_plan_days</th>\n",
       "      <th>plan_list_price</th>\n",
       "      <th>actual_amount_paid</th>\n",
       "      <th>is_auto_renew</th>\n",
       "      <th>transaction_date</th>\n",
       "      <th>membership_expire_date</th>\n",
       "      <th>is_cancel</th>\n",
       "    </tr>\n",
       "  </thead>\n",
       "  <tbody>\n",
       "    <tr>\n",
       "      <th>0</th>\n",
       "      <td>++6eU4LsQ3UQ20ILS7d99XK8WbiVgbyYL4FUgzZR134=</td>\n",
       "      <td>32</td>\n",
       "      <td>90</td>\n",
       "      <td>42</td>\n",
       "      <td>42</td>\n",
       "      <td>0</td>\n",
       "      <td>2017-01-31</td>\n",
       "      <td>2017-05-04</td>\n",
       "      <td>0</td>\n",
       "    </tr>\n",
       "    <tr>\n",
       "      <th>1</th>\n",
       "      <td>++lvGPJOinuin/8esghpnqdljm6NXS8m8Zwchc7gOeA=</td>\n",
       "      <td>41</td>\n",
       "      <td>30</td>\n",
       "      <td>-107</td>\n",
       "      <td>-107</td>\n",
       "      <td>1</td>\n",
       "      <td>2015-08-09</td>\n",
       "      <td>2019-04-12</td>\n",
       "      <td>0</td>\n",
       "    </tr>\n",
       "    <tr>\n",
       "      <th>2</th>\n",
       "      <td>+/GXNtXWQVfKrEDqYAzcSw2xSPYMKWNj22m+5XkVQZc=</td>\n",
       "      <td>36</td>\n",
       "      <td>30</td>\n",
       "      <td>-76</td>\n",
       "      <td>-76</td>\n",
       "      <td>1</td>\n",
       "      <td>2017-03-03</td>\n",
       "      <td>2017-04-22</td>\n",
       "      <td>0</td>\n",
       "    </tr>\n",
       "    <tr>\n",
       "      <th>3</th>\n",
       "      <td>+/w1UrZwyka4C9oNH3+Q8fUf3fD8R3EwWrx57ODIsqk=</td>\n",
       "      <td>36</td>\n",
       "      <td>30</td>\n",
       "      <td>-76</td>\n",
       "      <td>-76</td>\n",
       "      <td>1</td>\n",
       "      <td>2017-03-29</td>\n",
       "      <td>2017-03-31</td>\n",
       "      <td>1</td>\n",
       "    </tr>\n",
       "    <tr>\n",
       "      <th>4</th>\n",
       "      <td>+00PGzKTYqtnb65mPKPyeHXcZEwqiEzktpQksaaSC3c=</td>\n",
       "      <td>41</td>\n",
       "      <td>30</td>\n",
       "      <td>99</td>\n",
       "      <td>99</td>\n",
       "      <td>1</td>\n",
       "      <td>2017-03-23</td>\n",
       "      <td>2017-04-23</td>\n",
       "      <td>0</td>\n",
       "    </tr>\n",
       "  </tbody>\n",
       "</table>\n",
       "</div>"
      ],
      "text/plain": [
       "                                           msno  payment_method_id  \\\n",
       "0  ++6eU4LsQ3UQ20ILS7d99XK8WbiVgbyYL4FUgzZR134=                 32   \n",
       "1  ++lvGPJOinuin/8esghpnqdljm6NXS8m8Zwchc7gOeA=                 41   \n",
       "2  +/GXNtXWQVfKrEDqYAzcSw2xSPYMKWNj22m+5XkVQZc=                 36   \n",
       "3  +/w1UrZwyka4C9oNH3+Q8fUf3fD8R3EwWrx57ODIsqk=                 36   \n",
       "4  +00PGzKTYqtnb65mPKPyeHXcZEwqiEzktpQksaaSC3c=                 41   \n",
       "\n",
       "   payment_plan_days  plan_list_price  actual_amount_paid  is_auto_renew  \\\n",
       "0                 90               42                  42              0   \n",
       "1                 30             -107                -107              1   \n",
       "2                 30              -76                 -76              1   \n",
       "3                 30              -76                 -76              1   \n",
       "4                 30               99                  99              1   \n",
       "\n",
       "  transaction_date membership_expire_date  is_cancel  \n",
       "0       2017-01-31             2017-05-04          0  \n",
       "1       2015-08-09             2019-04-12          0  \n",
       "2       2017-03-03             2017-04-22          0  \n",
       "3       2017-03-29             2017-03-31          1  \n",
       "4       2017-03-23             2017-04-23          0  "
      ]
     },
     "execution_count": 3,
     "metadata": {},
     "output_type": "execute_result"
    }
   ],
   "source": [
    "print('Transactions Data : Number of rows & columns',transactions.shape)\n",
    "transactions.head()"
   ]
  },
  {
   "cell_type": "markdown",
   "metadata": {},
   "source": [
    "# Members dataset info"
   ]
  },
  {
   "cell_type": "code",
   "execution_count": 4,
   "metadata": {},
   "outputs": [
    {
     "name": "stdout",
     "output_type": "stream",
     "text": [
      "Test Data : Number of rows & columns (907471, 2)\n"
     ]
    },
    {
     "data": {
      "text/html": [
       "<div>\n",
       "<style scoped>\n",
       "    .dataframe tbody tr th:only-of-type {\n",
       "        vertical-align: middle;\n",
       "    }\n",
       "\n",
       "    .dataframe tbody tr th {\n",
       "        vertical-align: top;\n",
       "    }\n",
       "\n",
       "    .dataframe thead th {\n",
       "        text-align: right;\n",
       "    }\n",
       "</style>\n",
       "<table border=\"1\" class=\"dataframe\">\n",
       "  <thead>\n",
       "    <tr style=\"text-align: right;\">\n",
       "      <th></th>\n",
       "      <th>msno</th>\n",
       "      <th>is_churn</th>\n",
       "    </tr>\n",
       "  </thead>\n",
       "  <tbody>\n",
       "    <tr>\n",
       "      <th>0</th>\n",
       "      <td>4n+fXlyJvfQnTeKXTWT507Ll4JVYGrOC8LHCfwBmPE4=</td>\n",
       "      <td>0</td>\n",
       "    </tr>\n",
       "    <tr>\n",
       "      <th>1</th>\n",
       "      <td>aNmbC1GvFUxQyQUidCVmfbQ0YeCuwkPzEdQ0RwWyeZM=</td>\n",
       "      <td>0</td>\n",
       "    </tr>\n",
       "    <tr>\n",
       "      <th>2</th>\n",
       "      <td>rFC9eSG/tMuzpre6cwcMLZHEYM89xY02qcz7HL4//jc=</td>\n",
       "      <td>0</td>\n",
       "    </tr>\n",
       "    <tr>\n",
       "      <th>3</th>\n",
       "      <td>WZ59dLyrQcE7ft06MZ5dj40BnlYQY7PHgg/54+HaCSE=</td>\n",
       "      <td>0</td>\n",
       "    </tr>\n",
       "    <tr>\n",
       "      <th>4</th>\n",
       "      <td>aky/Iv8hMp1/V/yQHLtaVuEmmAxkB5GuasQZePJ7NU4=</td>\n",
       "      <td>0</td>\n",
       "    </tr>\n",
       "  </tbody>\n",
       "</table>\n",
       "</div>"
      ],
      "text/plain": [
       "                                           msno  is_churn\n",
       "0  4n+fXlyJvfQnTeKXTWT507Ll4JVYGrOC8LHCfwBmPE4=         0\n",
       "1  aNmbC1GvFUxQyQUidCVmfbQ0YeCuwkPzEdQ0RwWyeZM=         0\n",
       "2  rFC9eSG/tMuzpre6cwcMLZHEYM89xY02qcz7HL4//jc=         0\n",
       "3  WZ59dLyrQcE7ft06MZ5dj40BnlYQY7PHgg/54+HaCSE=         0\n",
       "4  aky/Iv8hMp1/V/yQHLtaVuEmmAxkB5GuasQZePJ7NU4=         0"
      ]
     },
     "execution_count": 4,
     "metadata": {},
     "output_type": "execute_result"
    }
   ],
   "source": [
    "print('Test Data : Number of rows & columns',test.shape)\n",
    "test.head()"
   ]
  },
  {
   "cell_type": "markdown",
   "metadata": {},
   "source": [
    "# Train dataset info"
   ]
  },
  {
   "cell_type": "code",
   "execution_count": 5,
   "metadata": {},
   "outputs": [
    {
     "name": "stdout",
     "output_type": "stream",
     "text": [
      "Train Data : Number of rows & columns (970960, 2)\n"
     ]
    },
    {
     "data": {
      "text/html": [
       "<div>\n",
       "<style scoped>\n",
       "    .dataframe tbody tr th:only-of-type {\n",
       "        vertical-align: middle;\n",
       "    }\n",
       "\n",
       "    .dataframe tbody tr th {\n",
       "        vertical-align: top;\n",
       "    }\n",
       "\n",
       "    .dataframe thead th {\n",
       "        text-align: right;\n",
       "    }\n",
       "</style>\n",
       "<table border=\"1\" class=\"dataframe\">\n",
       "  <thead>\n",
       "    <tr style=\"text-align: right;\">\n",
       "      <th></th>\n",
       "      <th>msno</th>\n",
       "      <th>is_churn</th>\n",
       "    </tr>\n",
       "  </thead>\n",
       "  <tbody>\n",
       "    <tr>\n",
       "      <th>0</th>\n",
       "      <td>ugx0CjOMzazClkFzU2xasmDZaoIqOUAZPsH1q0teWCg=</td>\n",
       "      <td>1</td>\n",
       "    </tr>\n",
       "    <tr>\n",
       "      <th>1</th>\n",
       "      <td>f/NmvEzHfhINFEYZTR05prUdr+E+3+oewvweYz9cCQE=</td>\n",
       "      <td>1</td>\n",
       "    </tr>\n",
       "    <tr>\n",
       "      <th>2</th>\n",
       "      <td>zLo9f73nGGT1p21ltZC3ChiRnAVvgibMyazbCxvWPcg=</td>\n",
       "      <td>1</td>\n",
       "    </tr>\n",
       "    <tr>\n",
       "      <th>3</th>\n",
       "      <td>8iF/+8HY8lJKFrTc7iR9ZYGCG2Ecrogbc2Vy5YhsfhQ=</td>\n",
       "      <td>1</td>\n",
       "    </tr>\n",
       "    <tr>\n",
       "      <th>4</th>\n",
       "      <td>K6fja4+jmoZ5xG6BypqX80Uw/XKpMgrEMdG2edFOxnA=</td>\n",
       "      <td>1</td>\n",
       "    </tr>\n",
       "  </tbody>\n",
       "</table>\n",
       "</div>"
      ],
      "text/plain": [
       "                                           msno  is_churn\n",
       "0  ugx0CjOMzazClkFzU2xasmDZaoIqOUAZPsH1q0teWCg=         1\n",
       "1  f/NmvEzHfhINFEYZTR05prUdr+E+3+oewvweYz9cCQE=         1\n",
       "2  zLo9f73nGGT1p21ltZC3ChiRnAVvgibMyazbCxvWPcg=         1\n",
       "3  8iF/+8HY8lJKFrTc7iR9ZYGCG2Ecrogbc2Vy5YhsfhQ=         1\n",
       "4  K6fja4+jmoZ5xG6BypqX80Uw/XKpMgrEMdG2edFOxnA=         1"
      ]
     },
     "execution_count": 5,
     "metadata": {},
     "output_type": "execute_result"
    }
   ],
   "source": [
    "print('Train Data : Number of rows & columns',train.shape)\n",
    "train.head()"
   ]
  },
  {
   "cell_type": "markdown",
   "metadata": {},
   "source": [
    "# All dataset column descrption"
   ]
  },
  {
   "cell_type": "code",
   "execution_count": 6,
   "metadata": {},
   "outputs": [
    {
     "name": "stdout",
     "output_type": "stream",
     "text": [
      "\n",
      "Train:              count      mean       std  min  25%  50%  75%  max\n",
      "is_churn  970960.0  0.089942  0.286099  0.0  0.0  0.0  0.0  1.0\n",
      "\n",
      "Test:              count  mean  std  min  25%  50%  75%  max\n",
      "is_churn  907471.0   0.0  0.0  0.0  0.0  0.0  0.0  0.0\n",
      "\n",
      "Members:                     count      mean        std    min  25%  50%   75%    max\n",
      "city            6769473.0  3.847358   5.478359    1.0  1.0  1.0   4.0   22.0\n",
      "bd              6769473.0  9.763688  15.354561 -128.0  0.0  0.0  21.0  126.0\n",
      "registered_via  6769473.0  5.253069   2.361398   -1.0  4.0  4.0   7.0   19.0\n",
      "\n",
      "Transactions:                         count       mean        std    min    25%   50%   75%  \\\n",
      "payment_method_id   1431009.0  37.918355   4.964805    2.0   36.0  40.0  41.0   \n",
      "payment_plan_days   1431009.0  18.432050  39.830162 -117.0   30.0  30.0  30.0   \n",
      "plan_list_price     1431009.0 -21.387690  94.768896 -127.0 -107.0 -76.0  99.0   \n",
      "actual_amount_paid  1431009.0 -20.556024  94.926916 -127.0 -107.0 -76.0  99.0   \n",
      "is_auto_renew       1431009.0   0.785303   0.410612    0.0    1.0   1.0   1.0   \n",
      "is_cancel           1431009.0   0.024551   0.154753    0.0    0.0   0.0   0.0   \n",
      "\n",
      "                      max  \n",
      "payment_method_id    41.0  \n",
      "payment_plan_days   120.0  \n",
      "plan_list_price     126.0  \n",
      "actual_amount_paid  127.0  \n",
      "is_auto_renew         1.0  \n",
      "is_cancel             1.0  \n",
      "\n",
      "User log:                  count         mean           std        min       25%  \\\n",
      "num_25      18396362.0     6.191401     13.428266      0.000     0.000   \n",
      "num_50      18396362.0     1.508789      3.908539      0.000     0.000   \n",
      "num_75      18396362.0     0.941376      1.924840      0.000     0.000   \n",
      "num_985     18396362.0     1.079905      3.518409      0.000     0.000   \n",
      "num_100     18396362.0    30.278898     41.326278 -24429.000     7.000   \n",
      "num_unq     18396362.0    29.036146     32.198660      1.000     8.000   \n",
      "total_secs  18396362.0  7904.813556  10136.323015      0.001  1959.944   \n",
      "\n",
      "                50%       75%          max  \n",
      "num_25         2.00     7.000     5639.000  \n",
      "num_50         1.00     2.000      912.000  \n",
      "num_75         0.00     1.000      508.000  \n",
      "num_985        0.00     1.000     1561.000  \n",
      "num_100       17.00    37.000    21073.000  \n",
      "num_unq       18.00    38.000     4925.000  \n",
      "total_secs  4582.99  9848.441  9194058.522  \n"
     ]
    }
   ],
   "source": [
    "print('\\nTrain:',train.describe().T)\n",
    "print('\\nTest:',test.describe().T)\n",
    "print('\\nMembers:',members.describe().T)\n",
    "print('\\nTransactions:',transactions.describe().T)\n",
    "print('\\nUser log:',user_log.describe().T)"
   ]
  },
  {
   "cell_type": "markdown",
   "metadata": {},
   "source": [
    "# Merge Train & Test dataset with Members, Trasanctions & User Logs"
   ]
  },
  {
   "cell_type": "code",
   "execution_count": 7,
   "metadata": {},
   "outputs": [
    {
     "name": "stdout",
     "output_type": "stream",
     "text": [
      "Number of rows & columns (970960, 23)\n",
      "Number of rows & columns (907471, 23)\n"
     ]
    }
   ],
   "source": [
    "train = pd.merge(train,members,on='msno',how='left')\n",
    "test = pd.merge(test,members,on='msno',how='left')\n",
    "train = pd.merge(train,transactions,how='left',on='msno',left_index=True, right_index=True)\n",
    "test = pd.merge(test,transactions,how='left',on='msno',left_index=True, right_index=True,)\n",
    "train = pd.merge(train,user_log,how='left',on='msno',left_index=True, right_index=True)\n",
    "test = pd.merge(test,user_log,how='left',on='msno',left_index=True, right_index=True)\n",
    "\n",
    "del members,transactions,user_log\n",
    "print('Number of rows & columns',train.shape)\n",
    "print('Number of rows & columns',test.shape)"
   ]
  },
  {
   "cell_type": "markdown",
   "metadata": {},
   "source": [
    "# Generate descriptive statistics on date columns"
   ]
  },
  {
   "cell_type": "code",
   "execution_count": 8,
   "metadata": {},
   "outputs": [
    {
     "data": {
      "text/html": [
       "<div>\n",
       "<style scoped>\n",
       "    .dataframe tbody tr th:only-of-type {\n",
       "        vertical-align: middle;\n",
       "    }\n",
       "\n",
       "    .dataframe tbody tr th {\n",
       "        vertical-align: top;\n",
       "    }\n",
       "\n",
       "    .dataframe thead th {\n",
       "        text-align: right;\n",
       "    }\n",
       "</style>\n",
       "<table border=\"1\" class=\"dataframe\">\n",
       "  <thead>\n",
       "    <tr style=\"text-align: right;\">\n",
       "      <th></th>\n",
       "      <th>registration_init_time</th>\n",
       "      <th>transaction_date</th>\n",
       "      <th>membership_expire_date</th>\n",
       "      <th>date</th>\n",
       "    </tr>\n",
       "  </thead>\n",
       "  <tbody>\n",
       "    <tr>\n",
       "      <th>count</th>\n",
       "      <td>860967</td>\n",
       "      <td>970960</td>\n",
       "      <td>970960</td>\n",
       "      <td>970960</td>\n",
       "    </tr>\n",
       "    <tr>\n",
       "      <th>unique</th>\n",
       "      <td>4749</td>\n",
       "      <td>820</td>\n",
       "      <td>1818</td>\n",
       "      <td>31</td>\n",
       "    </tr>\n",
       "    <tr>\n",
       "      <th>top</th>\n",
       "      <td>2015-10-09 00:00:00</td>\n",
       "      <td>2017-03-31 00:00:00</td>\n",
       "      <td>2017-04-30 00:00:00</td>\n",
       "      <td>2017-03-30 00:00:00</td>\n",
       "    </tr>\n",
       "    <tr>\n",
       "      <th>freq</th>\n",
       "      <td>1575</td>\n",
       "      <td>130414</td>\n",
       "      <td>79283</td>\n",
       "      <td>32331</td>\n",
       "    </tr>\n",
       "    <tr>\n",
       "      <th>first</th>\n",
       "      <td>2004-03-26 00:00:00</td>\n",
       "      <td>2015-01-01 00:00:00</td>\n",
       "      <td>2016-04-20 00:00:00</td>\n",
       "      <td>2017-03-01 00:00:00</td>\n",
       "    </tr>\n",
       "    <tr>\n",
       "      <th>last</th>\n",
       "      <td>2017-04-24 00:00:00</td>\n",
       "      <td>2017-03-31 00:00:00</td>\n",
       "      <td>2036-10-15 00:00:00</td>\n",
       "      <td>2017-03-31 00:00:00</td>\n",
       "    </tr>\n",
       "  </tbody>\n",
       "</table>\n",
       "</div>"
      ],
      "text/plain": [
       "       registration_init_time     transaction_date membership_expire_date  \\\n",
       "count                  860967               970960                 970960   \n",
       "unique                   4749                  820                   1818   \n",
       "top       2015-10-09 00:00:00  2017-03-31 00:00:00    2017-04-30 00:00:00   \n",
       "freq                     1575               130414                  79283   \n",
       "first     2004-03-26 00:00:00  2015-01-01 00:00:00    2016-04-20 00:00:00   \n",
       "last      2017-04-24 00:00:00  2017-03-31 00:00:00    2036-10-15 00:00:00   \n",
       "\n",
       "                       date  \n",
       "count                970960  \n",
       "unique                   31  \n",
       "top     2017-03-30 00:00:00  \n",
       "freq                  32331  \n",
       "first   2017-03-01 00:00:00  \n",
       "last    2017-03-31 00:00:00  "
      ]
     },
     "execution_count": 8,
     "metadata": {},
     "output_type": "execute_result"
    }
   ],
   "source": [
    "train[['registration_init_time' ,'transaction_date','membership_expire_date','date']].describe()"
   ]
  },
  {
   "cell_type": "markdown",
   "metadata": {},
   "source": [
    "# Find null value count for date columns"
   ]
  },
  {
   "cell_type": "code",
   "execution_count": 9,
   "metadata": {},
   "outputs": [
    {
     "data": {
      "text/plain": [
       "registration_init_time    109993\n",
       "transaction_date               0\n",
       "membership_expire_date         0\n",
       "date                           0\n",
       "dtype: int64"
      ]
     },
     "execution_count": 9,
     "metadata": {},
     "output_type": "execute_result"
    }
   ],
   "source": [
    "train[['registration_init_time' ,'transaction_date','membership_expire_date','date']].isnull().sum()"
   ]
  },
  {
   "cell_type": "markdown",
   "metadata": {},
   "source": [
    "# Update null values with default values - registration_init_time "
   ]
  },
  {
   "cell_type": "code",
   "execution_count": 10,
   "metadata": {},
   "outputs": [],
   "source": [
    "train['registration_init_time'] = train['registration_init_time'].fillna(value=pd.to_datetime('09/10/2015'))\n",
    "test['registration_init_time'] = test['registration_init_time'].fillna(value=pd.to_datetime('09/10/2015'))"
   ]
  },
  {
   "cell_type": "markdown",
   "metadata": {},
   "source": [
    "# Feature Genration :- Create numerical columns of date columns"
   ]
  },
  {
   "cell_type": "code",
   "execution_count": 11,
   "metadata": {},
   "outputs": [],
   "source": [
    "def date_feature(df):\n",
    "    \n",
    "    col = ['registration_init_time' ,'transaction_date','membership_expire_date','date']\n",
    "    var = ['reg','trans','mem_exp','user_']\n",
    "    #df['duration'] = (df[col[1]] - df[col[0]]).dt.days \n",
    "    \n",
    "    for i ,j in zip(col,var):\n",
    "        df[j+'_day'] = df[i].dt.day.astype('uint8')\n",
    "        df[j+'_weekday'] = df[i].dt.weekday.astype('uint8')        \n",
    "        df[j+'_month'] = df[i].dt.month.astype('uint8') \n",
    "        df[j+'_year'] =df[i].dt.year.astype('uint16') \n",
    "\n",
    "date_feature(train)\n",
    "date_feature(test)"
   ]
  },
  {
   "cell_type": "markdown",
   "metadata": {},
   "source": [
    "# Find null value columns in numerical columns"
   ]
  },
  {
   "cell_type": "code",
   "execution_count": 12,
   "metadata": {},
   "outputs": [
    {
     "data": {
      "text/plain": [
       "msno                           0\n",
       "is_churn                       0\n",
       "city                      109993\n",
       "bd                        109993\n",
       "gender                    582055\n",
       "registered_via            109993\n",
       "registration_init_time         0\n",
       "payment_method_id              0\n",
       "payment_plan_days              0\n",
       "plan_list_price                0\n",
       "actual_amount_paid             0\n",
       "is_auto_renew                  0\n",
       "transaction_date               0\n",
       "membership_expire_date         0\n",
       "is_cancel                      0\n",
       "date                           0\n",
       "num_25                         0\n",
       "num_50                         0\n",
       "num_75                         0\n",
       "num_985                        0\n",
       "num_100                        0\n",
       "num_unq                        0\n",
       "total_secs                     0\n",
       "reg_day                        0\n",
       "reg_weekday                    0\n",
       "reg_month                      0\n",
       "reg_year                       0\n",
       "trans_day                      0\n",
       "trans_weekday                  0\n",
       "trans_month                    0\n",
       "trans_year                     0\n",
       "mem_exp_day                    0\n",
       "mem_exp_weekday                0\n",
       "mem_exp_month                  0\n",
       "mem_exp_year                   0\n",
       "user__day                      0\n",
       "user__weekday                  0\n",
       "user__month                    0\n",
       "user__year                     0\n",
       "dtype: int64"
      ]
     },
     "execution_count": 12,
     "metadata": {},
     "output_type": "execute_result"
    }
   ],
   "source": [
    "train.isnull().sum()"
   ]
  },
  {
   "cell_type": "markdown",
   "metadata": {},
   "source": [
    "# Update null values with default values"
   ]
  },
  {
   "cell_type": "code",
   "execution_count": 13,
   "metadata": {},
   "outputs": [],
   "source": [
    "col = [ 'city', 'bd', 'gender', 'registered_via']\n",
    "def missing(df,columns):\n",
    "    col = columns\n",
    "    for i in col:\n",
    "        df[i].fillna(df[i].mode()[0],inplace=True)\n",
    "\n",
    "missing(train,col)\n",
    "missing(test,col)"
   ]
  },
  {
   "cell_type": "markdown",
   "metadata": {},
   "source": [
    "# Label encoder - Gender column "
   ]
  },
  {
   "cell_type": "code",
   "execution_count": 14,
   "metadata": {},
   "outputs": [],
   "source": [
    "# Encode Label to vlaues 0 or 1. That is male, female to 0-1.\n",
    "le = LabelEncoder()\n",
    "train['gender'] = le.fit_transform(train['gender'])\n",
    "test['gender'] = le.fit_transform(test['gender'])"
   ]
  },
  {
   "cell_type": "markdown",
   "metadata": {},
   "source": [
    "# Feature Generation - discount, is_discount, membership_duration & registration_duration"
   ]
  },
  {
   "cell_type": "code",
   "execution_count": 15,
   "metadata": {},
   "outputs": [],
   "source": [
    "train['discount'] = train['plan_list_price'] - train['actual_amount_paid']\n",
    "test['discount'] = test['plan_list_price'] - test['actual_amount_paid']\n",
    "\n",
    "train['is_discount'] = train.discount.apply(lambda x: 1 if x > 0 else 0)\n",
    "test['is_discount'] = test.discount.apply(lambda x: 1 if x > 0 else 0)\n",
    "\n"
   ]
  },
  {
   "cell_type": "code",
   "execution_count": 16,
   "metadata": {},
   "outputs": [],
   "source": [
    "train['membership_duration'] = train.membership_expire_date - train.transaction_date\n",
    "train['membership_duration'] = train['membership_duration'] / np.timedelta64(1, 'D')\n",
    "train['membership_duration'] = train['membership_duration'].astype(int)\n",
    "\n",
    "test['membership_duration'] = test.membership_expire_date - test.transaction_date\n",
    "test['membership_duration'] = test['membership_duration'] / np.timedelta64(1, 'D')\n",
    "test['membership_duration'] = test['membership_duration'].astype(int)"
   ]
  },
  {
   "cell_type": "code",
   "execution_count": 17,
   "metadata": {},
   "outputs": [],
   "source": [
    "train['registration_duration'] = train.membership_expire_date - train.registration_init_time\n",
    "train['registration_duration'] = train['registration_duration'] / np.timedelta64(1, 'D')\n",
    "train['registration_duration'] = train['registration_duration'].astype(int)\n",
    "\n",
    "test['registration_duration'] = test.membership_expire_date - test.registration_init_time\n",
    "test['registration_duration'] = test['registration_duration'] / np.timedelta64(1, 'D')\n",
    "test['registration_duration'] = test['registration_duration'].astype(int)\n"
   ]
  },
  {
   "cell_type": "code",
   "execution_count": 18,
   "metadata": {},
   "outputs": [],
   "source": [
    "train['autorenew_&_not_cancel'] = ((train.is_auto_renew == 1) == (train.is_cancel == 0)).astype(np.int8)\n",
    "\n",
    "test['autorenew_&_not_cancel'] = ((test.is_auto_renew == 1) == (test.is_cancel == 0)).astype(np.int8)"
   ]
  },
  {
   "cell_type": "code",
   "execution_count": 19,
   "metadata": {},
   "outputs": [],
   "source": [
    "train['notAutorenew_&_cancel'] = ((train.is_auto_renew == 0) == (train.is_cancel == 1)).astype(np.int8)\n",
    "\n",
    "test['notAutorenew_&_cancel'] = ((test.is_auto_renew == 0) == (test.is_cancel == 1)).astype(np.int8)"
   ]
  },
  {
   "cell_type": "markdown",
   "metadata": {},
   "source": [
    "# Remove unwanted columns and create "
   ]
  },
  {
   "cell_type": "code",
   "execution_count": 20,
   "metadata": {},
   "outputs": [],
   "source": [
    "train_test = pd.merge(test, train,how='left',on='msno')\n",
    "unwanted = ['msno','is_churn','registration_init_time','transaction_date','membership_expire_date','date','discount']\n",
    "\n",
    "X = train.drop(unwanted,axis=1)\n",
    "y = train['is_churn'].astype('category')\n",
    "x_test = test.drop(unwanted,axis=1)\n",
    "y_test =  train_test['is_churn_y'].fillna(0).astype('category')"
   ]
  },
  {
   "cell_type": "markdown",
   "metadata": {},
   "source": [
    "# Apply Logistic Regression Algo and predict churn values"
   ]
  },
  {
   "cell_type": "code",
   "execution_count": 21,
   "metadata": {
    "scrolled": true
   },
   "outputs": [
    {
     "name": "stdout",
     "output_type": "stream",
     "text": [
      "Logistic Regression Accuracy Score:-   0.6852064694078378\n",
      "\n",
      "Logistic Regression Confusion Matrix\n",
      "[[613328   4809]\n",
      " [280857   8477]]\n"
     ]
    },
    {
     "data": {
      "image/png": "[encoded data removed]",
      "text/plain": [
       "<matplotlib.figure.Figure at 0x21780a8b9e8>"
      ]
     },
     "metadata": {},
     "output_type": "display_data"
    }
   ],
   "source": [
    "from sklearn.metrics import confusion_matrix\n",
    "from sklearn.metrics import accuracy_score\n",
    "\n",
    "lr = LogisticRegression(class_weight='balanced',C=1)\n",
    "lr.fit(X,y)\n",
    "y_pred = lr.predict(x_test)\n",
    "\n",
    "\n",
    "print('Logistic Regression Accuracy Score:-  ',accuracy_score(y_pred, y_test))\n",
    "\n",
    "print('\\nLogistic Regression Confusion Matrix')\n",
    "\n",
    "matrix = confusion_matrix(y_pred, y_test)\n",
    "print(matrix)\n",
    "\n",
    "plt.matshow(matrix)\n",
    "plt.title('Confusion matrix')\n",
    "plt.colorbar()\n",
    "plt.ylabel('True label')\n",
    "plt.xlabel('Predicted label')\n",
    "plt.show()"
   ]
  },
  {
   "cell_type": "code",
   "execution_count": 22,
   "metadata": {},
   "outputs": [],
   "source": [
    "tocsv = pd.DataFrame({'is_churn':y_pred,'msno':test['msno']})\n",
    "tocsv.to_csv('kk_pred_Logistic_Regression.csv',index=False)"
   ]
  },
  {
   "cell_type": "markdown",
   "metadata": {},
   "source": [
    "# Apply Decision Matrix Algo and predict churn values"
   ]
  },
  {
   "cell_type": "code",
   "execution_count": 23,
   "metadata": {
    "scrolled": true
   },
   "outputs": [
    {
     "name": "stdout",
     "output_type": "stream",
     "text": [
      "Decision Classifier Accuracy Score:-   0.8930015394431338\n",
      "\n",
      "Decision Classifier Confusion Matrix\n",
      "[[807702  10615]\n",
      " [ 86483   2671]]\n"
     ]
    },
    {
     "data": {
      "image/png": "[encoded data removed]",
      "text/plain": [
       "<matplotlib.figure.Figure at 0x217808dda20>"
      ]
     },
     "metadata": {},
     "output_type": "display_data"
    }
   ],
   "source": [
    "from sklearn.tree import DecisionTreeClassifier\n",
    "classifier = DecisionTreeClassifier(criterion = 'entropy', random_state = 0)\n",
    "classifier.fit(X,y)\n",
    "\n",
    "# Predicting the Test set results\n",
    "y_pred_dc = classifier.predict(x_test)\n",
    "\n",
    "print('Decision Classifier Accuracy Score:-  ',accuracy_score(y_pred_dc, y_test))\n",
    "\n",
    "print('\\nDecision Classifier Confusion Matrix')\n",
    "\n",
    "cm = confusion_matrix(y_pred_dc, y_test)\n",
    "print(cm)\n",
    "\n",
    "plt.matshow(cm)\n",
    "plt.title('Confusion matrix')\n",
    "plt.colorbar()\n",
    "plt.ylabel('True label')\n",
    "plt.xlabel('Predicted label')\n",
    "plt.show()"
   ]
  },
  {
   "cell_type": "code",
   "execution_count": 24,
   "metadata": {},
   "outputs": [],
   "source": [
    "tocsv = pd.DataFrame({'is_churn':y_pred_dc,'msno':test['msno']})\n",
    "tocsv.to_csv('kk_pred_Decision_Matrix.csv',index=False)"
   ]
  },
  {
   "cell_type": "markdown",
   "metadata": {},
   "source": [
    "# Apply Neural Network Algo and predict churn values"
   ]
  },
  {
   "cell_type": "code",
   "execution_count": 25,
   "metadata": {
    "scrolled": true
   },
   "outputs": [
    {
     "name": "stdout",
     "output_type": "stream",
     "text": [
      "Neural Network Accuracy Score:-   0.9853593117576209\n",
      "\n",
      "Neural Network Classifier Confusion Matrix\n",
      "[[894185  13286]\n",
      " [     0      0]]\n"
     ]
    },
    {
     "data": {
      "image/png": "[encoded data removed]",
      "text/plain": [
       "<matplotlib.figure.Figure at 0x21780ac8278>"
      ]
     },
     "metadata": {},
     "output_type": "display_data"
    }
   ],
   "source": [
    "from sklearn.neural_network import MLPClassifier\n",
    "modelNN =  MLPClassifier(activation='relu', max_iter=10000, hidden_layer_sizes=(8,10))\n",
    "modelNN.fit(X,y)\n",
    "y_pred_nn = modelNN.predict(x_test)\n",
    "\n",
    "print('Neural Network Accuracy Score:-  ',accuracy_score(y_pred_nn, y_test))\n",
    "\n",
    "print('\\nNeural Network Classifier Confusion Matrix')\n",
    "\n",
    "matrix1 = confusion_matrix(y_pred_nn,y_test)\n",
    "print(matrix1)\n",
    "\n",
    "plt.matshow(matrix1)\n",
    "plt.title('Confusion matrix')\n",
    "plt.colorbar()\n",
    "plt.ylabel('True label')\n",
    "plt.xlabel('Predicted label')\n",
    "plt.show()"
   ]
  },
  {
   "cell_type": "code",
   "execution_count": 26,
   "metadata": {},
   "outputs": [],
   "source": [
    "tocsv = pd.DataFrame({'is_churn':y_pred_nn,'msno':test['msno']})\n",
    "tocsv.to_csv('kk_pred_Neural_Network.csv',index=False)"
   ]
  }
 ],
 "metadata": {
  "kernelspec": {
   "display_name": "Python 3",
   "language": "python",
   "name": "python3"
  },
  "language_info": {
   "codemirror_mode": {
    "name": "ipython",
    "version": 3
   },
   "file_extension": ".py",
   "mimetype": "text/x-python",
   "name": "python",
   "nbconvert_exporter": "python",
   "pygments_lexer": "ipython3",
   "version": "3.6.4"
  }
 },
 "nbformat": 4,
 "nbformat_minor": 2
}
